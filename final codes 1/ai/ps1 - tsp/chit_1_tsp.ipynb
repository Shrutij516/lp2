{
 "cells": [
  {
   "cell_type": "code",
   "execution_count": 5,
   "id": "a51170e6",
   "metadata": {},
   "outputs": [],
   "source": [
    "import numpy as np\n",
    "import random"
   ]
  },
  {
   "cell_type": "code",
   "execution_count": 6,
   "id": "3776fca8",
   "metadata": {},
   "outputs": [],
   "source": [
    "adj = []\n",
    "for i in range(4):\n",
    "    adj.append(random.sample(range(100),4))"
   ]
  },
  {
   "cell_type": "code",
   "execution_count": 7,
   "id": "e3dfe811",
   "metadata": {},
   "outputs": [
    {
     "data": {
      "text/plain": [
       "[[44, 95, 76, 99], [48, 70, 59, 43], [34, 59, 83, 31], [68, 45, 9, 91]]"
      ]
     },
     "execution_count": 7,
     "metadata": {},
     "output_type": "execute_result"
    }
   ],
   "source": [
    "adj"
   ]
  },
  {
   "cell_type": "code",
   "execution_count": 8,
   "id": "9b9a523d",
   "metadata": {},
   "outputs": [],
   "source": [
    "for i in range(len(adj)):\n",
    "    for j in range(len(adj[i])):\n",
    "        if i==j:\n",
    "            adj[i][j] = 999"
   ]
  },
  {
   "cell_type": "code",
   "execution_count": 9,
   "id": "147c6f62",
   "metadata": {},
   "outputs": [
    {
     "data": {
      "text/plain": [
       "array([[999,  95,  76,  99],\n",
       "       [ 48, 999,  59,  43],\n",
       "       [ 34,  59, 999,  31],\n",
       "       [ 68,  45,   9, 999]])"
      ]
     },
     "execution_count": 9,
     "metadata": {},
     "output_type": "execute_result"
    }
   ],
   "source": [
    "np.array(adj)"
   ]
  },
  {
   "cell_type": "code",
   "execution_count": 10,
   "id": "e0796d42",
   "metadata": {},
   "outputs": [
    {
     "data": {
      "text/plain": [
       "76"
      ]
     },
     "execution_count": 10,
     "metadata": {},
     "output_type": "execute_result"
    }
   ],
   "source": [
    "min(adj[0])"
   ]
  },
  {
   "cell_type": "code",
   "execution_count": 11,
   "id": "d86b87de",
   "metadata": {},
   "outputs": [
    {
     "data": {
      "text/plain": [
       "[[999, 95, 76, 99], [48, 999, 59, 43], [34, 59, 999, 31], [68, 45, 9, 999]]"
      ]
     },
     "execution_count": 11,
     "metadata": {},
     "output_type": "execute_result"
    }
   ],
   "source": [
    "adj"
   ]
  },
  {
   "cell_type": "code",
   "execution_count": 12,
   "id": "a80d26f3",
   "metadata": {},
   "outputs": [
    {
     "name": "stdout",
     "output_type": "stream",
     "text": [
      "0\n"
     ]
    }
   ],
   "source": [
    "start = int(input())"
   ]
  },
  {
   "cell_type": "code",
   "execution_count": 13,
   "id": "a37c041e",
   "metadata": {},
   "outputs": [
    {
     "name": "stdout",
     "output_type": "stream",
     "text": [
      "[[999  95  76  99]\n",
      " [999 999  59  43]\n",
      " [999  59 999  31]\n",
      " [999  45   9 999]]\n",
      "2\n",
      "[[999  95 999  99]\n",
      " [999 999 999  43]\n",
      " [999  59 999  31]\n",
      " [999  45 999 999]]\n",
      "3\n",
      "[[999  95 999 999]\n",
      " [999 999 999 999]\n",
      " [999  59 999 999]\n",
      " [999  45 999 999]]\n",
      "1\n"
     ]
    }
   ],
   "source": [
    "visited = []\n",
    "dist = 0\n",
    "visited.append(start)\n",
    "while list(set(visited)) != [i for i in range(len(adj))]:\n",
    "    for i in range(len(adj)):\n",
    "        adj[i][visited[-1]] = 999\n",
    "    nxt = adj[visited[-1]].index(min(adj[visited[-1]]))\n",
    "    dist += min(adj[visited[-1]])\n",
    "    print(np.array(adj))\n",
    "    print(nxt)\n",
    "    visited.append(nxt)\n",
    "    continue"
   ]
  },
  {
   "cell_type": "code",
   "execution_count": 14,
   "id": "2d953412",
   "metadata": {},
   "outputs": [
    {
     "data": {
      "text/plain": [
       "152"
      ]
     },
     "execution_count": 14,
     "metadata": {},
     "output_type": "execute_result"
    }
   ],
   "source": [
    "dist"
   ]
  },
  {
   "cell_type": "code",
   "execution_count": 15,
   "id": "0627d9c8",
   "metadata": {},
   "outputs": [
    {
     "data": {
      "text/plain": [
       "[0, 2, 3, 1]"
      ]
     },
     "execution_count": 15,
     "metadata": {},
     "output_type": "execute_result"
    }
   ],
   "source": [
    "visited"
   ]
  },
  {
   "cell_type": "code",
   "execution_count": null,
   "id": "3b1b298e",
   "metadata": {},
   "outputs": [],
   "source": []
  }
 ],
 "metadata": {
  "kernelspec": {
   "display_name": "Python 3 (ipykernel)",
   "language": "python",
   "name": "python3"
  },
  "language_info": {
   "codemirror_mode": {
    "name": "ipython",
    "version": 3
   },
   "file_extension": ".py",
   "mimetype": "text/x-python",
   "name": "python",
   "nbconvert_exporter": "python",
   "pygments_lexer": "ipython3",
   "version": "3.9.13"
  }
 },
 "nbformat": 4,
 "nbformat_minor": 5
}
