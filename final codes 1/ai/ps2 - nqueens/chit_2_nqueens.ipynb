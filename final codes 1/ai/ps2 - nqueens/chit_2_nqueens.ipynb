{
 "cells": [
  {
   "cell_type": "code",
   "execution_count": 1,
   "id": "63f5a896",
   "metadata": {},
   "outputs": [],
   "source": [
    "import numpy as np\n",
    "import random "
   ]
  },
  {
   "cell_type": "code",
   "execution_count": 5,
   "id": "479f7939",
   "metadata": {},
   "outputs": [
    {
     "name": "stdout",
     "output_type": "stream",
     "text": [
      "[1, 2, 4, 3, 0]\n"
     ]
    }
   ],
   "source": [
    "def random_state(n):\n",
    "    return [random.randint(0, n-1) for _ in range(n)]\n",
    "\n",
    "def attacks(state):\n",
    "    n = len(state)\n",
    "    count = 0\n",
    "    for i in range(n):\n",
    "        for j in range(i+1,n):\n",
    "            if state[i] == state[j] or abs(i-j) == abs(state[i] - state[j]):\n",
    "                count += 1\n",
    "    return count\n",
    "\n",
    "def hill_climbing(n):\n",
    "    current = random_state(n)\n",
    "    while True:\n",
    "        neighbours = []\n",
    "        for col in range(n):\n",
    "            for row in range(n):\n",
    "                if current[col] != row:\n",
    "                    neigbor = list(current)\n",
    "                    neigbor[col] = row\n",
    "                    neighbours.append(neigbor)\n",
    "        if not neighbours:\n",
    "            break\n",
    "        neigbor = min(neighbours, key=attacks)\n",
    "        if attacks(neigbor) >= attacks(current):\n",
    "            break\n",
    "        current = neigbor\n",
    "    return current\n",
    "\n",
    "print(hill_climbing(5))"
   ]
  },
  {
   "cell_type": "code",
   "execution_count": 8,
   "id": "821f7d9d",
   "metadata": {},
   "outputs": [
    {
     "data": {
      "text/plain": [
       "array([[1., 0., 0., 0., 0.],\n",
       "       [0., 0., 0., 1., 0.],\n",
       "       [0., 1., 0., 0., 0.],\n",
       "       [0., 0., 0., 0., 1.],\n",
       "       [0., 0., 1., 0., 0.]])"
      ]
     },
     "execution_count": 8,
     "metadata": {},
     "output_type": "execute_result"
    }
   ],
   "source": [
    "board = np.zeros((5,5))\n",
    "sol = list(hill_climbing(5))\n",
    "for i in range(len(sol)):\n",
    "    board[i][sol[i]] = 1\n",
    "    \n",
    "board"
   ]
  },
  {
   "cell_type": "code",
   "execution_count": null,
   "id": "102d4af7",
   "metadata": {},
   "outputs": [],
   "source": []
  }
 ],
 "metadata": {
  "kernelspec": {
   "display_name": "Python 3 (ipykernel)",
   "language": "python",
   "name": "python3"
  },
  "language_info": {
   "codemirror_mode": {
    "name": "ipython",
    "version": 3
   },
   "file_extension": ".py",
   "mimetype": "text/x-python",
   "name": "python",
   "nbconvert_exporter": "python",
   "pygments_lexer": "ipython3",
   "version": "3.9.13"
  }
 },
 "nbformat": 4,
 "nbformat_minor": 5
}
