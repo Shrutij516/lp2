{
 "cells": [
  {
   "cell_type": "code",
   "execution_count": 5,
   "id": "ed1e9d11",
   "metadata": {},
   "outputs": [
    {
     "name": "stdout",
     "output_type": "stream",
     "text": [
      "move disk 1 from rod 0 to_rod 1\n",
      "move disk 2 from rod 0 to_rod 2\n",
      "move disk 1 from rod 1 to_rod 2\n",
      "move disk 3 from rod 0 to_rod 1\n",
      "move disk 1 from rod 2 to_rod 0\n",
      "move disk 2 from rod 2 to_rod 1\n",
      "move disk 1 from rod 0 to_rod 1\n",
      "move disk 4 from rod 0 to_rod 2\n",
      "move disk 1 from rod 1 to_rod 2\n",
      "move disk 2 from rod 1 to_rod 0\n",
      "move disk 1 from rod 2 to_rod 0\n",
      "move disk 3 from rod 1 to_rod 2\n",
      "move disk 1 from rod 0 to_rod 1\n",
      "move disk 2 from rod 0 to_rod 2\n",
      "move disk 1 from rod 1 to_rod 2\n"
     ]
    }
   ],
   "source": [
    "class Stack:\n",
    "    def __init__(self):\n",
    "        self.items = []\n",
    "    \n",
    "    def push(self, item):\n",
    "        self.items.append(item)\n",
    "        \n",
    "    def pop(self):\n",
    "        if not self.is_empty():\n",
    "            return self.items.pop()\n",
    "    \n",
    "    def is_empty(self):\n",
    "        return len(self.items) == 0\n",
    "    \n",
    "def TowerOfHanoi(n, from_rod, to_rod, aux_rod):\n",
    "    stack = Stack()\n",
    "    done = False\n",
    "    \n",
    "    while not done:\n",
    "        if n > 0:\n",
    "            stack.push((n, from_rod, to_rod, aux_rod))\n",
    "            n -= 1\n",
    "            from_rod, to_rod, aux_rod = from_rod, aux_rod, to_rod\n",
    "        else:\n",
    "            if not stack.is_empty():\n",
    "                n, from_rod, to_rod, aux_rod = stack.pop()\n",
    "                print(\"move disk\", n, \"from rod\", from_rod, \"to_rod\", to_rod)\n",
    "                n -= 1\n",
    "                from_rod, to_rod, aux_rod = aux_rod, to_rod, from_rod\n",
    "            else:\n",
    "                done = True\n",
    "                \n",
    "TowerOfHanoi(4, \"0\", \"2\", \"1\")"
   ]
  },
  {
   "cell_type": "code",
   "execution_count": null,
   "id": "8065e864",
   "metadata": {},
   "outputs": [],
   "source": []
  }
 ],
 "metadata": {
  "kernelspec": {
   "display_name": "Python 3 (ipykernel)",
   "language": "python",
   "name": "python3"
  },
  "language_info": {
   "codemirror_mode": {
    "name": "ipython",
    "version": 3
   },
   "file_extension": ".py",
   "mimetype": "text/x-python",
   "name": "python",
   "nbconvert_exporter": "python",
   "pygments_lexer": "ipython3",
   "version": "3.9.13"
  }
 },
 "nbformat": 4,
 "nbformat_minor": 5
}
