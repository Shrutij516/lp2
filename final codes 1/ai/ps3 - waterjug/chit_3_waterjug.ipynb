{
 "cells": [
  {
   "cell_type": "code",
   "execution_count": 1,
   "id": "04b5298c",
   "metadata": {},
   "outputs": [],
   "source": [
    "from collections import deque"
   ]
  },
  {
   "cell_type": "code",
   "execution_count": 8,
   "id": "b4e68186",
   "metadata": {},
   "outputs": [
    {
     "name": "stdout",
     "output_type": "stream",
     "text": [
      "initial state:  (0, 0)\n",
      "fill jug 2 : (0, 3)\n",
      "Pour jug 2 to jug 1 : (3, 0)\n",
      "fill jug 2 : (3, 3)\n",
      "Pour jug 2 to jug 1 : (4, 2)\n",
      "goal state:  (4, 2)\n"
     ]
    }
   ],
   "source": [
    "def solve(jug1, jug2, target):\n",
    "    initial = (0,0)\n",
    "    actions = [\n",
    "        (\"fill jug 1\", lambda state: (jug1, state[1])),\n",
    "        (\"fill jug 2\", lambda state: (state[0], jug2)),\n",
    "        (\"empty jug 1\", lambda state: (0, state[1])),\n",
    "        (\"empty jug 2\", lambda state: (state[0], 0)),\n",
    "        (\"Pour jug 1 to jug 2\", lambda state: (max(0, state[0]+state[1]-jug2), min(state[0]+state[1], jug2))),\n",
    "        (\"Pour jug 2 to jug 1\", lambda state: (min(state[0]+state[1], jug1), max(0, state[0]+state[1]-jug1)))\n",
    "    ]\n",
    "    \n",
    "    queue = deque()\n",
    "    queue.append((initial, []))\n",
    "    visited = set()\n",
    "    \n",
    "    while queue:\n",
    "        curr, path = queue.popleft()\n",
    "        \n",
    "        if curr[0] == target or curr[1] == target:\n",
    "            return path\n",
    "        \n",
    "        for action, func in actions:\n",
    "            new = func(curr)\n",
    "            if new not in visited:\n",
    "                queue.append((new, path+[(action, new)]))\n",
    "                visited.add(new)\n",
    "    return None\n",
    "\n",
    "k = solve(4,3,2)\n",
    "print(\"initial state: \", (0,0))\n",
    "for i,j in k:\n",
    "    print(i,\":\",j)\n",
    "\n",
    "print(\"goal state: \", k[-1][1])"
   ]
  },
  {
   "cell_type": "code",
   "execution_count": null,
   "id": "28e66276",
   "metadata": {},
   "outputs": [],
   "source": []
  }
 ],
 "metadata": {
  "kernelspec": {
   "display_name": "Python 3 (ipykernel)",
   "language": "python",
   "name": "python3"
  },
  "language_info": {
   "codemirror_mode": {
    "name": "ipython",
    "version": 3
   },
   "file_extension": ".py",
   "mimetype": "text/x-python",
   "name": "python",
   "nbconvert_exporter": "python",
   "pygments_lexer": "ipython3",
   "version": "3.9.13"
  }
 },
 "nbformat": 4,
 "nbformat_minor": 5
}
